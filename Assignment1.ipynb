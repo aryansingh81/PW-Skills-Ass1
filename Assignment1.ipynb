{
 "cells": [
  {
   "cell_type": "markdown",
   "id": "c963e2e2-8988-4db0-9f7a-8f734728fd81",
   "metadata": {},
   "source": [
    "Answer 1 :-"
   ]
  },
  {
   "cell_type": "code",
   "execution_count": 1,
   "id": "7206ffaf-b5b0-419a-a592-4a9a98e3c022",
   "metadata": {},
   "outputs": [],
   "source": [
    "a=\"Aryan Singh\""
   ]
  },
  {
   "cell_type": "code",
   "execution_count": 2,
   "id": "fc695fef-9ec8-4d3d-b679-4a11868a0d0a",
   "metadata": {},
   "outputs": [
    {
     "data": {
      "text/plain": [
       "str"
      ]
     },
     "execution_count": 2,
     "metadata": {},
     "output_type": "execute_result"
    }
   ],
   "source": [
    "type(a)"
   ]
  },
  {
   "cell_type": "code",
   "execution_count": 3,
   "id": "ce8a8819-8ca4-4805-a66a-ddc8a15be88a",
   "metadata": {},
   "outputs": [],
   "source": [
    "b=[1,2,3,4]"
   ]
  },
  {
   "cell_type": "code",
   "execution_count": 4,
   "id": "cd0797fa-a998-4487-af47-45c5b06ac28e",
   "metadata": {},
   "outputs": [
    {
     "data": {
      "text/plain": [
       "list"
      ]
     },
     "execution_count": 4,
     "metadata": {},
     "output_type": "execute_result"
    }
   ],
   "source": [
    "type(b)"
   ]
  },
  {
   "cell_type": "code",
   "execution_count": 5,
   "id": "7cd7cfc0-979c-483a-b1db-9ba70bae9c21",
   "metadata": {},
   "outputs": [],
   "source": [
    "c=25.81"
   ]
  },
  {
   "cell_type": "code",
   "execution_count": 6,
   "id": "2fd2cbf9-29f4-4258-9f43-11fe24a29fe8",
   "metadata": {},
   "outputs": [
    {
     "data": {
      "text/plain": [
       "float"
      ]
     },
     "execution_count": 6,
     "metadata": {},
     "output_type": "execute_result"
    }
   ],
   "source": [
    "type(c)"
   ]
  },
  {
   "cell_type": "code",
   "execution_count": 7,
   "id": "dc9d15c2-ff5b-419a-8260-cdbd76b36b7a",
   "metadata": {},
   "outputs": [],
   "source": [
    "d=(1,2,3,4)"
   ]
  },
  {
   "cell_type": "code",
   "execution_count": 8,
   "id": "286353b7-1c2a-4142-8b6b-2efffcb03abe",
   "metadata": {},
   "outputs": [
    {
     "data": {
      "text/plain": [
       "tuple"
      ]
     },
     "execution_count": 8,
     "metadata": {},
     "output_type": "execute_result"
    }
   ],
   "source": [
    "type(d)"
   ]
  },
  {
   "cell_type": "markdown",
   "id": "d8c70e3a-5fe8-463e-8fba-765637ebd42c",
   "metadata": {},
   "source": [
    "Answer 2 :-"
   ]
  },
  {
   "cell_type": "code",
   "execution_count": 9,
   "id": "edd3b424-5d12-4536-9ea2-e7d7a5610950",
   "metadata": {},
   "outputs": [],
   "source": [
    "var1 = ' '"
   ]
  },
  {
   "cell_type": "code",
   "execution_count": 10,
   "id": "5aca0c93-f8e1-41a3-98c9-780516f689ed",
   "metadata": {},
   "outputs": [
    {
     "data": {
      "text/plain": [
       "str"
      ]
     },
     "execution_count": 10,
     "metadata": {},
     "output_type": "execute_result"
    }
   ],
   "source": [
    "type(var1)"
   ]
  },
  {
   "cell_type": "code",
   "execution_count": 11,
   "id": "74342ba8-3d95-49f6-ad02-dc30a40c79ae",
   "metadata": {},
   "outputs": [],
   "source": [
    "var2 = '[ DS , ML , Python]'"
   ]
  },
  {
   "cell_type": "code",
   "execution_count": 12,
   "id": "f92d62e7-4079-459a-a7b7-8251266791fd",
   "metadata": {},
   "outputs": [
    {
     "data": {
      "text/plain": [
       "str"
      ]
     },
     "execution_count": 12,
     "metadata": {},
     "output_type": "execute_result"
    }
   ],
   "source": [
    "type(var2)"
   ]
  },
  {
   "cell_type": "code",
   "execution_count": 14,
   "id": "2974218a-c4ac-483f-b6e0-ef9b61b06849",
   "metadata": {},
   "outputs": [],
   "source": [
    "var3 = [ 'DS' , 'ML' , 'Python' ]"
   ]
  },
  {
   "cell_type": "code",
   "execution_count": 15,
   "id": "a51302c5-da42-42b9-bd8b-aebdc3238be3",
   "metadata": {},
   "outputs": [
    {
     "data": {
      "text/plain": [
       "list"
      ]
     },
     "execution_count": 15,
     "metadata": {},
     "output_type": "execute_result"
    }
   ],
   "source": [
    "type(var3)"
   ]
  },
  {
   "cell_type": "code",
   "execution_count": 16,
   "id": "0cdef609-35e7-4db1-8108-09a3de913f16",
   "metadata": {},
   "outputs": [],
   "source": [
    "var4 = 1"
   ]
  },
  {
   "cell_type": "code",
   "execution_count": 17,
   "id": "ab167116-f37d-4abd-bc43-06192e7c6e42",
   "metadata": {},
   "outputs": [
    {
     "data": {
      "text/plain": [
       "int"
      ]
     },
     "execution_count": 17,
     "metadata": {},
     "output_type": "execute_result"
    }
   ],
   "source": [
    "type(var4)"
   ]
  },
  {
   "cell_type": "markdown",
   "id": "a7d82409-441a-4898-af09-17ba6b6e98ad",
   "metadata": {},
   "source": [
    "Answer 3 :-"
   ]
  },
  {
   "cell_type": "code",
   "execution_count": 18,
   "id": "5877d52b-f8fb-4243-bdad-867262b55df7",
   "metadata": {},
   "outputs": [
    {
     "name": "stdout",
     "output_type": "stream",
     "text": [
      "27.0\n"
     ]
    }
   ],
   "source": [
    "a=81\n",
    "b=3\n",
    "print(a/b)"
   ]
  },
  {
   "cell_type": "code",
   "execution_count": 19,
   "id": "bc9230af-4ac0-44a4-beb5-893a4f00da48",
   "metadata": {},
   "outputs": [
    {
     "name": "stdout",
     "output_type": "stream",
     "text": [
      "1\n"
     ]
    }
   ],
   "source": [
    "a=10\n",
    "b=3\n",
    "print(a%b)"
   ]
  },
  {
   "cell_type": "code",
   "execution_count": 20,
   "id": "75895fff-d737-4455-a1d4-840186d91d12",
   "metadata": {},
   "outputs": [
    {
     "name": "stdout",
     "output_type": "stream",
     "text": [
      "27\n"
     ]
    }
   ],
   "source": [
    "a=81\n",
    "b=3\n",
    "print(a//b)"
   ]
  },
  {
   "cell_type": "code",
   "execution_count": 21,
   "id": "713408ad-9a38-49d0-a2d0-c58744de5599",
   "metadata": {},
   "outputs": [
    {
     "name": "stdout",
     "output_type": "stream",
     "text": [
      "9\n"
     ]
    }
   ],
   "source": [
    "a=3\n",
    "b=2\n",
    "print(a**b)"
   ]
  },
  {
   "cell_type": "markdown",
   "id": "85c95c9a-f94e-4a2b-b3da-ce0542c9f2fd",
   "metadata": {},
   "source": [
    "Answer 4 :-"
   ]
  },
  {
   "cell_type": "code",
   "execution_count": 22,
   "id": "f6fa65dd-2221-4821-a16f-bf5dfd1b57ad",
   "metadata": {},
   "outputs": [
    {
     "name": "stdout",
     "output_type": "stream",
     "text": [
      "1 <class 'int'>\n",
      "two <class 'str'>\n",
      "3.0 <class 'float'>\n",
      "[4, 5] <class 'list'>\n",
      "six <class 'str'>\n",
      "True <class 'bool'>\n",
      "(7, 8) <class 'tuple'>\n",
      "{'nine': 9} <class 'dict'>\n",
      "None <class 'NoneType'>\n",
      "10 <class 'int'>\n"
     ]
    }
   ],
   "source": [
    "my_list = [1, 'two', 3.0, [4, 5], 'six', True, (7, 8), {'nine': 9}, None, 10]\n",
    "\n",
    "for element in my_list:\n",
    "    print(element, type(element))"
   ]
  },
  {
   "cell_type": "markdown",
   "id": "4c7e0f82-73bd-4cf4-a075-603f28f4b84c",
   "metadata": {},
   "source": [
    "Answer 5 :-"
   ]
  },
  {
   "cell_type": "code",
   "execution_count": 24,
   "id": "f60e7118-1114-47f9-8608-e0a7f1b55296",
   "metadata": {},
   "outputs": [
    {
     "name": "stdin",
     "output_type": "stream",
     "text": [
      "Enter the value of A 100\n",
      "Enter the value of B 5\n"
     ]
    },
    {
     "name": "stdout",
     "output_type": "stream",
     "text": [
      "Number A is divisible by number B 2 times.\n"
     ]
    }
   ],
   "source": [
    "A = int(input(\"Enter the value of A\"))\n",
    "B = int(input(\"Enter the value of B\"))\n",
    "count = 0\n",
    "\n",
    "while A % B == 0:\n",
    "    A = A / B\n",
    "    count += 1\n",
    "\n",
    "print(\"Number A is divisible by number B\", count, \"times.\")\n"
   ]
  },
  {
   "cell_type": "markdown",
   "id": "3f9702d9-d281-4b0a-9ec7-35051d305214",
   "metadata": {},
   "source": [
    "Answer 6 :-"
   ]
  },
  {
   "cell_type": "code",
   "execution_count": 25,
   "id": "3a56543d-26e9-4769-971e-c0a400adb438",
   "metadata": {},
   "outputs": [
    {
     "name": "stdout",
     "output_type": "stream",
     "text": [
      "10 is not divisible by 3\n",
      "15 is divisible by 3\n",
      "7 is not divisible by 3\n",
      "21 is divisible by 3\n",
      "33 is divisible by 3\n",
      "12 is divisible by 3\n",
      "18 is divisible by 3\n",
      "25 is not divisible by 3\n",
      "30 is divisible by 3\n",
      "42 is divisible by 3\n",
      "17 is not divisible by 3\n",
      "9 is divisible by 3\n",
      "6 is divisible by 3\n",
      "27 is divisible by 3\n",
      "36 is divisible by 3\n",
      "22 is not divisible by 3\n",
      "13 is not divisible by 3\n",
      "4 is not divisible by 3\n",
      "39 is divisible by 3\n",
      "19 is not divisible by 3\n",
      "28 is not divisible by 3\n",
      "31 is not divisible by 3\n",
      "8 is not divisible by 3\n",
      "16 is not divisible by 3\n",
      "24 is divisible by 3\n"
     ]
    }
   ],
   "source": [
    "my_list = [10, 15, 7, 21, 33, 12, 18, 25, 30, 42, 17, 9, 6, 27, 36, 22, 13, 4, 39, 19, 28, 31, 8, 16, 24]\n",
    "\n",
    "for element in my_list:\n",
    "    if element % 3 == 0:\n",
    "        print(element, \"is divisible by 3\")\n",
    "    else:\n",
    "        print(element, \"is not divisible by 3\")"
   ]
  },
  {
   "cell_type": "markdown",
   "id": "6c583b69-67d7-40ab-88e0-c492ed0fcfde",
   "metadata": {},
   "source": [
    "Answer 7 :-"
   ]
  },
  {
   "cell_type": "markdown",
   "id": "45523892-02de-4446-ab92-4bf3b4e5f6dd",
   "metadata": {},
   "source": [
    "Immutable Data Types:\n",
    "Immutable data types are those whose values cannot be changed after they are created. If you try to modify an immutable object, a new object with the modified value is created instead of modifying the original object in place. Examples of immutable data types in Python include integers, floats, strings, and tuples."
   ]
  },
  {
   "cell_type": "markdown",
   "id": "981420ba-716f-424c-a13f-e6ef685622c7",
   "metadata": {},
   "source": [
    "Mutable data types are those whose values can be changed after they are created. This means you can modify the object in place without creating a new object. Examples of mutable data types in Python include lists, dictionaries, and sets."
   ]
  },
  {
   "cell_type": "code",
   "execution_count": 26,
   "id": "97bb14de-d2b4-431a-8182-8b6b86586216",
   "metadata": {},
   "outputs": [
    {
     "name": "stdout",
     "output_type": "stream",
     "text": [
      "10\n",
      "5\n"
     ]
    }
   ],
   "source": [
    "#Immutable Data type Example\n",
    "x = 5\n",
    "y = x\n",
    "x = 10\n",
    "\n",
    "print(x)  \n",
    "print(y)  "
   ]
  },
  {
   "cell_type": "code",
   "execution_count": 27,
   "id": "f4e74fa4-77d7-499b-80e9-0bada07bd6cb",
   "metadata": {},
   "outputs": [
    {
     "name": "stdout",
     "output_type": "stream",
     "text": [
      "[1, 2, 3, 4]\n",
      "[1, 2, 3, 4]\n"
     ]
    }
   ],
   "source": [
    "#Mutable Data type Example\n",
    "list1 = [1, 2, 3]\n",
    "list2 = list1\n",
    "list1.append(4)\n",
    "\n",
    "print(list1)  \n",
    "print(list2)  "
   ]
  },
  {
   "cell_type": "code",
   "execution_count": null,
   "id": "de7e7175-330b-4f44-83c0-20607bdc1c9f",
   "metadata": {},
   "outputs": [],
   "source": []
  }
 ],
 "metadata": {
  "kernelspec": {
   "display_name": "Python 3 (ipykernel)",
   "language": "python",
   "name": "python3"
  },
  "language_info": {
   "codemirror_mode": {
    "name": "ipython",
    "version": 3
   },
   "file_extension": ".py",
   "mimetype": "text/x-python",
   "name": "python",
   "nbconvert_exporter": "python",
   "pygments_lexer": "ipython3",
   "version": "3.10.8"
  }
 },
 "nbformat": 4,
 "nbformat_minor": 5
}
